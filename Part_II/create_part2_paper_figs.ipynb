{
 "cells": [
  {
   "cell_type": "code",
   "execution_count": 1,
   "metadata": {},
   "outputs": [],
   "source": [
    "'''\n",
    "Script to generate plots from paper for Part II\n",
    "'''\n",
    "\n",
    "import numpy as np\n",
    "import pandas as pd\n",
    "import json \n",
    "import os\n",
    "import sys\n",
    "import random\n",
    "import math\n",
    "import matplotlib.pylab as plt \n",
    "import seaborn as sns\n",
    "import scipy.stats as stats\n",
    "from matplotlib.font_manager import FontProperties\n",
    "from matplotlib.backends.backend_pdf import PdfPages\n",
    "import matplotlib.gridspec as gridspec\n",
    "import itertools\n",
    "import matplotlib"
   ]
  },
  {
   "cell_type": "code",
   "execution_count": 2,
   "metadata": {},
   "outputs": [],
   "source": [
    "import os\n",
    "save_dir = \"./results/\"\n",
    "if not os.path.exists(save_dir):\n",
    "    os.makedirs(save_dir)\n",
    "    \n",
    "# sources = [\"human\", \"gpt-3\"]\n",
    "# constraints = ['unconstrained', 'constrained_single', 'constrained_many']\n",
    "# constraints_exps = ['unconstrained', 'single-constraint', 'all-constraints']"
   ]
  },
  {
   "cell_type": "code",
   "execution_count": 3,
   "metadata": {},
   "outputs": [],
   "source": [
    "constraint_text_map =  {\"unconstrained\": \"Initial\", \n",
    "                       \"constrained_single\": \"Most Common\\nConstraint\", \n",
    "                       \"constrained_many\": \"All Constraints\"}\n",
    "source_text_map = {\"gpt-3\": \"LLM\", \n",
    "                  \"human\": \"Human\"}\n",
    "\n",
    "source_palette = {\"LLM\": \"gray\", \"Human\": \"#3C739F\"}\n",
    "\n",
    "ax_size = 18\n",
    "title_size=20\n",
    "tick_size = 14\n",
    "tick_color = \"gray\"\n",
    "legend_text_size = 14"
   ]
  },
  {
   "cell_type": "code",
   "execution_count": 4,
   "metadata": {},
   "outputs": [
    {
     "name": "stdout",
     "output_type": "stream",
     "text": [
      "   Unnamed: 0  id  succeed constraints method gpt_prompt gpt_res\n",
      "0           0   3     True         one  codex        NaN     NaN\n",
      "1           1   4     True         one  codex        NaN     NaN\n",
      "2           2   5     True         one  codex        NaN     NaN\n"
     ]
    }
   ],
   "source": [
    "# parser-and-planner vs. LLM results\n",
    "\n",
    "def parse_success(success_str):\n",
    "    return 1 if success_str == True else 0\n",
    "\n",
    "df = pd.read_csv(f\"{save_dir}/final-output.csv\")\n",
    "\n",
    "print(df.head(3))\n",
    "\n",
    "methods = [\"codex\", \"gpt\"]\n",
    "constraints = [\"one\", \"two\", \"all\"]\n",
    "\n",
    "data = {}\n",
    "\n",
    "for method in methods:\n",
    "    if method == \"codex\": df_subset = df[df.method == \"codex\"]\n",
    "    else: df_subset = df[df.method == \"gpt\"]\n",
    "    \n",
    "    success_data = {}\n",
    "    \n",
    "    for constraint in constraints:\n",
    "        constraint_df = df_subset[df_subset.constraints == constraint]\n",
    "        successes = [parse_success(success_str) for success_str in constraint_df.succeed]\n",
    "        \n",
    "        success_data[constraint] = successes\n",
    "        \n",
    "    data[method] = success_data"
   ]
  },
  {
   "cell_type": "code",
   "execution_count": 5,
   "metadata": {},
   "outputs": [
    {
     "name": "stdout",
     "output_type": "stream",
     "text": [
      "p-value annotation legend:\n",
      "      ns: p <= 1.00e+00\n",
      "       *: 1.00e-02 < p <= 5.00e-02\n",
      "      **: 1.00e-03 < p <= 1.00e-02\n",
      "     ***: 1.00e-04 < p <= 1.00e-03\n",
      "    ****: p <= 1.00e-04\n",
      "\n",
      "two_P+S vs. two_LLM: Custom statistical test, P_val:2.200e-16\n",
      "one_P+S vs. one_LLM: Custom statistical test, P_val:2.200e-16\n"
     ]
    },
    {
     "name": "stderr",
     "output_type": "stream",
     "text": [
      "<ipython-input-5-1e4948a23528>:41: UserWarning: FixedFormatter should only be used together with FixedLocator\n",
      "  ax.set_yticklabels([round(tick,1) for tick in ax.get_yticks()[:-1]], size = tick_size, color=tick_color)\n",
      "/Users/kcollins/opt/anaconda3/lib/python3.8/site-packages/statannotations/Annotator.py:803: UserWarning: Annotator was reconfigured without applying the test (again) which will probably lead to unexpected results\n",
      "  warnings.warn(\"Annotator was reconfigured without applying the \"\n"
     ]
    },
    {
     "name": "stdout",
     "output_type": "stream",
     "text": [
      "all_P+S vs. all_LLM: Custom statistical test, P_val:2.200e-16\n"
     ]
    },
    {
     "data": {
      "image/png": "[encoded data removed]",
      "text/plain": [
       "<Figure size 504x432 with 1 Axes>"
      ]
     },
     "metadata": {
      "needs_background": "dark"
     },
     "output_type": "display_data"
    }
   ],
   "source": [
    "# stat annotation help from: https://github.com/trevismd/statannotations\n",
    "\n",
    "from statannotations.Annotator import Annotator\n",
    "import statsmodels\n",
    "\n",
    "color_palette = [\"purple\", \"gray\"]\n",
    "\n",
    "constraint_text_map =  {\"one\": \"Initial\", \n",
    "                       \"two\": \"Single Atypical\\nConstraint\", \n",
    "                       \"all\": \"Many Atypical\\nConstraints\"}\n",
    "source_text_map = {\"gpt\": \"LLM\", \n",
    "                  \"codex\": \"P+S\"}\n",
    "\n",
    "fig, ax = plt.subplots(figsize=(7,6))\n",
    "sns.set_style(style=\"white\")\n",
    "\n",
    "x = 'Number of Constraints'\n",
    "y = 'Success Score'\n",
    "hue = 'Subject ID'\n",
    "\n",
    "pairs_q1 = [(('one', 'P+S'), ('one', 'LLM')),\n",
    "           (('two', 'P+S'), ('two', 'LLM')),\n",
    "           (('all', 'P+S'), ('all', 'LLM'))]\n",
    "\n",
    "# p-values from associated R analysis \n",
    "p_values = [2.2e-16,2.2e-16,2.2e-16]\n",
    "\n",
    "successes = []\n",
    "for method in data:\n",
    "    for constraint in constraints:\n",
    "        for score in data[method][constraint]:\n",
    "            row = [constraint, source_text_map[method], score]\n",
    "            successes.append(row)\n",
    "    \n",
    "success_df = pd.DataFrame(successes, columns = ['Number of Constraints', 'Subject ID', 'Success Score'])\n",
    "\n",
    "ax = sns.barplot(x=x, y=y, hue=hue, data=success_df, palette=color_palette,ax=ax)\n",
    "ax.set_ylabel('Automatic Evaluation Score',fontsize=ax_size)\n",
    "\n",
    "ax.set_xlabel(\"Constraint Condition\", fontsize=ax_size)\n",
    "ax.set_yticklabels([round(tick,1) for tick in ax.get_yticks()[:-1]], size = tick_size, color=tick_color)\n",
    "ax.set_xticklabels(list(constraint_text_map.values()), size = tick_size, color=tick_color)\n",
    "\n",
    "ax.legend([],[], frameon=False)\n",
    "\n",
    "plotting_params = {'x':x, 'y':y, \"hue\": hue,\n",
    "                   'data': success_df, \n",
    "                   'text_format':'star', 'verbose':2}\n",
    "# add annotations\n",
    "annotator = Annotator(ax, pairs_q1, **plotting_params)\n",
    "annotator.set_pvalues(p_values)\n",
    "annotator.configure(color=\"gray\")\n",
    "annotator.annotate()\n",
    "plotting_params = {'x':x, 'y':y,\n",
    "                   'data': success_df, \n",
    "                   'text_format':'star', 'verbose':2}\n",
    "\n",
    "plt.tight_layout()\n",
    "plt.savefig(f\"{save_dir}parser_planner.png\",dpi=400)\n",
    "\n",
    "                                           "
   ]
  },
  {
   "cell_type": "code",
   "execution_count": null,
   "metadata": {},
   "outputs": [],
   "source": []
  }
 ],
 "metadata": {
  "interpreter": {
   "hash": "6bfba3d9cec53d1fa1d59f855399e26dded27ccf19705ae5a5112c9714ee83ae"
  },
  "kernelspec": {
   "display_name": "Python 3",
   "language": "python",
   "name": "python3"
  },
  "language_info": {
   "codemirror_mode": {
    "name": "ipython",
    "version": 3
   },
   "file_extension": ".py",
   "mimetype": "text/x-python",
   "name": "python",
   "nbconvert_exporter": "python",
   "pygments_lexer": "ipython3",
   "version": "3.8.8"
  }
 },
 "nbformat": 4,
 "nbformat_minor": 2
}
