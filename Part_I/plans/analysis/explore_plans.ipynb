{
 "cells": [
  {
   "cell_type": "markdown",
   "metadata": {},
   "source": [
    "# Analyzing Goodness Ratings from Planning Data"
   ]
  },
  {
   "cell_type": "code",
   "execution_count": 9,
   "metadata": {},
   "outputs": [],
   "source": [
    "import numpy as np\n",
    "import pandas as pd\n",
    "import json \n",
    "import os\n",
    "import sys\n",
    "import random\n",
    "import math\n",
    "import matplotlib.pylab as plt \n",
    "import seaborn as sns\n",
    "import scipy.stats as stats\n",
    "from matplotlib.font_manager import FontProperties\n",
    "from matplotlib.backends.backend_pdf import PdfPages\n",
    "import matplotlib.gridspec as gridspec\n",
    "import itertools"
   ]
  },
  {
   "cell_type": "code",
   "execution_count": 10,
   "metadata": {},
   "outputs": [],
   "source": [
    "def parse_rating(rating_str): \n",
    "    # cognition.run saves all data as strings\n",
    "    # need to parse dictionary from a string\n",
    "    # returns an int\n",
    "    rating = rating_str.split(\":\")[-1].split(\"}\")[0]\n",
    "    return int(rating)\n",
    "\n",
    "import os\n",
    "save_dir = \"./results_planning/\"\n",
    "if not os.path.exists(save_dir):\n",
    "    os.makedirs(save_dir)"
   ]
  },
  {
   "cell_type": "code",
   "execution_count": null,
   "metadata": {},
   "outputs": [],
   "source": [
    "data_pth = \"../data/goodness_ratings/human_rated_goodness.csv\"\n",
    "df = pd.read_csv(data_pth)\n",
    "# extract subj ids\n",
    "all_subjs = set(df.PROLIFIC_PID)\n",
    "\n",
    "print(\"Num subjs: \", len(all_subjs), \", Num rows: \", len(df))\n",
    "\n",
    "typicality_data = pd.read_csv(\"../typicality_ratings.csv\", usecols=[\"Original Goals\", \"Avg Rating\"])\n",
    "rating_col =  \"Avg Rating\"\n",
    "\n"
   ]
  },
  {
   "cell_type": "code",
   "execution_count": 12,
   "metadata": {},
   "outputs": [
    {
     "name": "stdout",
     "output_type": "stream",
     "text": [
      "Num goals:  84  rating df:  11600\n"
     ]
    },
    {
     "data": {
      "text/plain": [
       "Index(['level_0', 'index', 'run_id', 'condition', 'view_history', 'rt',\n",
       "       'trial_type', 'trial_index', 'time_elapsed', 'internal_node_id',\n",
       "       'PROLIFIC_PID', 'STUDY_ID', 'SESSION_ID', 'subject_id', 'study_id',\n",
       "       'session_id', 'response', 'question_order', 'prompt', 'task', 'subj_id',\n",
       "       'plan', 'goal_type', 'stimulus', 'recorded_at', 'ip', 'user_agent',\n",
       "       'device', 'browser', 'browser_version', 'platform', 'platform_version',\n",
       "       'source_code_version'],\n",
       "      dtype='object')"
      ]
     },
     "execution_count": 12,
     "metadata": {},
     "output_type": "execute_result"
    }
   ],
   "source": [
    "# filter out to only include the ratings\n",
    "# e.g., any response that was of type \"rate_goodness\" \n",
    "rating_df = df[(df.task == \"rate_goodness\")].reset_index()\n",
    "# gather all goals\n",
    "all_goals = set(rating_df.prompt)\n",
    "print(\"Num goals: \", len(all_goals), \" rating df: \", len(rating_df))\n",
    "# keep only the first rating for people who saw a duplicate plan (due to accidental repeated planner)\n",
    "for subj_id in all_subjs:\n",
    "    \n",
    "    subj_df = rating_df[rating_df.PROLIFIC_PID == subj_id]\n",
    "    rated_plans = set()\n",
    "    for idx, plan in zip(subj_df.index, subj_df.plan): \n",
    "        if plan in rated_plans: rating_df = rating_df.drop(idx)\n",
    "        else: rated_plans.add(plan)\n",
    "rating_df.columns"
   ]
  },
  {
   "cell_type": "markdown",
   "metadata": {},
   "source": [
    "## Extract mean, median, and all goodness ratings for GPT-3 and Human for each Constraint Level"
   ]
  },
  {
   "cell_type": "code",
   "execution_count": 13,
   "metadata": {},
   "outputs": [
    {
     "data": {
      "text/plain": [
       "{'constrained_many', 'constrained_single', 'unconstrained'}"
      ]
     },
     "execution_count": 13,
     "metadata": {},
     "output_type": "execute_result"
    }
   ],
   "source": [
    "set(rating_df.goal_type)"
   ]
  },
  {
   "cell_type": "code",
   "execution_count": 14,
   "metadata": {},
   "outputs": [],
   "source": [
    "typicality_data = typicality_data.sort_values(by=[rating_col])\n",
    "sorted_goals = list(typicality_data[\"Original Goals\"])\n",
    "\n",
    "midpoint = int(len(sorted_goals)/2)\n",
    "most_typical = sorted_goals[:int(len(sorted_goals)/2)]\n",
    "least_typical = sorted_goals[int(len(sorted_goals)/2):]"
   ]
  },
  {
   "cell_type": "code",
   "execution_count": 15,
   "metadata": {},
   "outputs": [],
   "source": [
    "from scipy import stats\n",
    "rating_data = {}\n",
    "\n",
    "sources = [\"gpt-3\", \"human\"]\n",
    "constraints = ['unconstrained', 'constrained_single', 'constrained_many']\n",
    "\n",
    "z_score = False\n",
    "num_responses = len(rating_df.response)\n",
    "# rating_df[\"goodness_rating\"] = np.zeros([num_responses,1], dtype=int)\n",
    "goodness_ratings = []\n",
    "\n",
    "if z_score == True: \n",
    "    # normalize w/in subjs (okay to assume b/c assumed large enough for representative sample)\n",
    "    scaled_dfs = []\n",
    "    for subj_id in all_subjs: \n",
    "        subj_df = rating_df[rating_df.PROLIFIC_PID == subj_id]\n",
    "        # extract ratings\n",
    "        subj_ratings = np.array([json.loads(rating_str)['goodness'] + 1 for rating_str in subj_df.response])\n",
    "        # run z score\n",
    "        scaled_ratings = stats.zscore(subj_ratings)\n",
    "        subj_df[\"goodness_rating\"] = scaled_ratings\n",
    "        scaled_dfs.append(subj_df)\n",
    "    rating_df = pd.concat(scaled_dfs, ignore_index=True)\n",
    "        # map back in the original data frame the new scaled rating\n",
    "#         orig_idxs = list(subj_df.index)\n",
    "#         for orig_idx, scaled_rating in zip(orig_idxs, scaled_ratings): \n",
    "#             goodness_ratings[orig_idx] = scaled_rating\n",
    "        \n",
    "else: \n",
    "    for idx, rating_str in enumerate(rating_df.response): \n",
    "#         rating_df[\"goodness_rating\"][idx] = json.loads(rating_str)['goodness'] + 1\n",
    "        goodness_ratings.append(json.loads(rating_str)['goodness'] + 1)\n",
    "    rating_df[\"goodness_rating\"] = goodness_ratings\n",
    "        \n",
    "\n",
    "for source in sources: \n",
    "    if source == \"human\": df_subset = rating_df[rating_df.subj_id == \"human\"]\n",
    "    else: df_subset = rating_df[rating_df.subj_id == \"gpt-3\"]\n",
    "    goal_rating_data = {}\n",
    "    for constraint in constraints:\n",
    "        if constraint not in goal_rating_data:\n",
    "            goal_rating_data[constraint] = {}\n",
    "        constraint_df = df_subset[df_subset.goal_type == constraint]\n",
    "        \n",
    "#         ratings = [json.loads(rating_str)['goodness'] + 1 for rating_str in constraint_df.response]\n",
    "        ratings = list(constraint_df[\"goodness_rating\"])\n",
    "        avg_goodness = np.mean(ratings)\n",
    "        median_goodness = np.median(ratings)\n",
    "        \n",
    "        \n",
    "        goal_rating_data[constraint] = {'mean': avg_goodness, 'median': median_goodness, 'ratings': ratings}\n",
    "\n",
    "    rating_data[source] = goal_rating_data\n",
    "\n",
    "\n"
   ]
  },
  {
   "cell_type": "code",
   "execution_count": 16,
   "metadata": {},
   "outputs": [
    {
     "data": {
      "text/plain": [
       "(['Clean the dirty dishes.',\n",
       "  'Keep the plants in your garden alive.',\n",
       "  'Fix a flat tire. ',\n",
       "  'Take your dog for a walk.',\n",
       "  'Bake a cake.',\n",
       "  'Cut down a tree. ',\n",
       "  \"Order food in a restaurant, where you don't speak the native language.\",\n",
       "  'Build a bookshelf. ',\n",
       "  'Paint a fence. ',\n",
       "  'Play baseball with your friends. ',\n",
       "  'Help your local town mayor win re-election. ',\n",
       "  'Put out a fire that started near the wires from your TV.',\n",
       "  'Find out how many sharks live in a cove off a nearby coast. ',\n",
       "  'Cool down in a record-breaking heat wave.'],\n",
       " ['Create a safe landing for a falling skydiver.',\n",
       "  'Protect the deer in your nearby woods during hunting season.',\n",
       "  'Stop your canoe from falling down the waterfall. ',\n",
       "  'Make a pair of new shoes. ',\n",
       "  \"Build a float to dazzle the crowd at the Macy's Day Parade.\",\n",
       "  \"Decorate the world's largest Christmas tree.\",\n",
       "  'Escape from inside a locked custodial closet. ',\n",
       "  'Get your sofa onto the roof of your house.',\n",
       "  'Jump over a six foot tall man. ',\n",
       "  'Escape quicksand. ',\n",
       "  \"Steal the championship trophy from behind your school's award case.\",\n",
       "  'Make a fort underwater. ',\n",
       "  'Keep a baby platupyus entertained. ',\n",
       "  'Remove plaque from the teeth of a lion. '])"
      ]
     },
     "execution_count": 16,
     "metadata": {},
     "output_type": "execute_result"
    }
   ],
   "source": [
    "most_typical, least_typical"
   ]
  },
  {
   "cell_type": "code",
   "execution_count": 17,
   "metadata": {},
   "outputs": [],
   "source": [
    "# get summary scores for each explanation \n",
    "grouped_data = {}\n",
    "num_generations = {source: 0 for source in sources}\n",
    "stimuli_per_cond = {constraint: [] for constraint in constraints}\n",
    "data_per_goal = {source: {} for source in sources}\n",
    "\n",
    "for source in sources: \n",
    "    source_rating_data = {constraint: [] for constraint in constraints}\n",
    "    df_subset = rating_df[rating_df.subj_id == source]\n",
    "    goal_rating_data = {}\n",
    "    for constraint in constraints:\n",
    "        constraint_df = df_subset[df_subset.goal_type == constraint]\n",
    "        \n",
    "        if len(stimuli_per_cond[constraint]) == 0: stimuli_per_cond[constraint] = sorted(set(constraint_df.prompt))\n",
    "            \n",
    "        generations = set(constraint_df[\"plan\"])\n",
    "        num_generations[source] += len(generations)\n",
    "        for generation in generations: \n",
    "            generation_df = constraint_df[constraint_df.plan == generation]\n",
    "            prompt = list(generation_df.prompt)[0] # same prompt for all generations, so just take the first\n",
    "            ratings = [json.loads(rating_str)['goodness'] + 1 for rating_str in generation_df.response]\n",
    "            avg_goodness = np.mean(ratings)\n",
    "            median_goodness = np.median(ratings)\n",
    "            \n",
    "            obj = {'generation': generation, 'stimuli': prompt, 'mean': avg_goodness, 'median': median_goodness, 'ratings': ratings,\n",
    "                  \"constraint\":constraint}\n",
    "            \n",
    "            source_rating_data[constraint].append(obj)\n",
    "            if prompt not in data_per_goal[source]: data_per_goal[source][prompt] = [obj]\n",
    "            else: data_per_goal[source][prompt].append(obj)\n",
    "    grouped_data[source] = source_rating_data"
   ]
  },
  {
   "cell_type": "code",
   "execution_count": 18,
   "metadata": {},
   "outputs": [
    {
     "name": "stdout",
     "output_type": "stream",
     "text": [
      "Constraint: unconstrained, Source: gpt-3 \n",
      "Goal: Clean the dirty dishes.\n",
      "\n",
      "\tMiddle:  (5.0, 'I would first check to see what is the dirtiest. I would then find the appropriate tool for cleaning that item. I would then clean the dishes. I would then put the dishes away.') \n",
      "\n",
      "Constraint: constrained_single, Source: gpt-3 \n",
      "Goal: Clean the dirty dishes, without using soap.\n",
      "\n",
      "\tMiddle:  (4.0, 'I would first try to use a sponge to clean them.') \n",
      "\n",
      "Constraint: constrained_many, Source: gpt-3 \n",
      "Goal: Clean the dirty dishes, without using soap, water, a tub, sanitizer, a sponge, detergent, a counter, or a dishwasher.\n",
      "\n",
      "\tMiddle:  (2.25, 'I would use a sponge to make a soap substitute. I would make a mixture of water and baking soda. I would take a cup of baking soda and mix it with a cup of water. I would put it in a spray bottle and spray it on the dishes.') \n",
      "\n",
      "Constraint: unconstrained, Source: human \n",
      "Goal: Clean the dirty dishes.\n",
      "\n",
      "\tMiddle:  (5.166666666666667, 'wash all dirty dishes.') \n",
      "\n",
      "Constraint: constrained_single, Source: human \n",
      "Goal: Clean the dirty dishes, without using soap.\n",
      "\n",
      "\tMiddle:  (5.0, 'I would power hose the dishes and then boil them to clean them.') \n",
      "\n",
      "Constraint: constrained_many, Source: human \n",
      "Goal: Clean the dirty dishes, without using soap, water, a tub, sanitizer, a sponge, detergent, a counter, or a dishwasher.\n",
      "\n",
      "\tMiddle:  (4.428571428571429, 'I would use a rag and wipe them clean .') \n",
      "\n"
     ]
    }
   ],
   "source": [
    "sample_goal = \"Clean the dirty\"\n",
    "# extract generations for specific representative stimuli \n",
    "sample_data = {constraint: {} for constraint in constraints} \n",
    "for source in sources: \n",
    "    for goal, goal_data in data_per_goal[source].items(): \n",
    "        if sample_goal in goal: \n",
    "            constraint = goal_data[0][\"constraint\"]\n",
    "            \n",
    "            print(f\"Constraint: {constraint}, Source: {source} \\n{goal}\")\n",
    "            # sort generations by mean rating\n",
    "            means = [(plan_data[\"mean\"], plan_data[\"generation\"]) for plan_data in goal_data]\n",
    "            means = sorted(means, key=lambda x: x[0])\n",
    "            \n",
    "            print(\"\\n\\tMiddle: \", means[int(len(means)/2)], \"\\n\")\n",
    "            \n",
    "            sample_data[constraint][source] = means\n",
    "\n"
   ]
  },
  {
   "cell_type": "code",
   "execution_count": 33,
   "metadata": {},
   "outputs": [
    {
     "data": {
      "text/plain": [
       "[(3.6666666666666665,\n",
       "  'I would first make sure I had the right cleaning supplies.'),\n",
       " (4.0,\n",
       "  'I would ask my mom if I could help her with the dishes. I would ask her if she wanted me to dry them or put them away. If she said dry them I would dry them. If she said put them away I would put them away.'),\n",
       " (4.0,\n",
       "  'I would break down the dirty dishes into categories. I would start with the cups and bowls. I would fill the sink with warm soapy water. I would wash each cup and bowl one at a time. I would then rinse each cup and bowl one at a time. I would then put each cup and bowl one at a time into the dishwasher. I would repeat the process until all the dishes are clean.'),\n",
       " (4.666666666666667,\n",
       "  'I would first put the dishes in the dishwasher and run it.'),\n",
       " (4.666666666666667,\n",
       "  'I would start by finding a dish I can wash. Then I would get a sponge and soap and water and I would wash the dish.'),\n",
       " (4.666666666666667,\n",
       "  'I would first put the dirty dishes in a pile and then I would put them in the dishwasher and turn it on.'),\n",
       " (4.666666666666667,\n",
       "  'I would first see if there was a dishwasher. If so, I would put the dirty dishes in the dishwasher. If there was no dishwasher, I would put the dirty dishes in the sink. I would use soap and water to clean the dishes. I would rinse the dishes, and then put them in the dish rack to dry. I would wipe the counter to clean it.'),\n",
       " (5.0,\n",
       "  'I would first look for the dishwasher to see if the dishes are clean.'),\n",
       " (5.0,\n",
       "  'I would clean the dishes by using soap and water. I would scrub them with soap and then rinse them off.'),\n",
       " (5.0,\n",
       "  'I would first start with washing the dishes. Then I would dry them and put them away.'),\n",
       " (5.0,\n",
       "  'I would first check to see what is the dirtiest. I would then find the appropriate tool for cleaning that item. I would then clean the dishes. I would then put the dishes away.'),\n",
       " (5.0,\n",
       "  'I would clean the dishes first by filling the sink with water and soap. I would then start scrubbing the dishes.'),\n",
       " (5.333333333333333,\n",
       "  'I would get a sponge, warm water, and soap to clean the dishes.'),\n",
       " (5.666666666666667,\n",
       "  'I would gather all the dirty dishes in the sink, and put them in the dishwasher.'),\n",
       " (5.666666666666667,\n",
       "  'I would go to the sink and start washing the dishes. I would wash all the dishes and then I would dry them.'),\n",
       " (5.666666666666667,\n",
       "  'I would go to the kitchen and get a sponge and a pan. Then I would fill the pan with water and put it on the stove. I would then get a sponge and put it in the water. Once the water was boiled, I would take the pan off the stove and let the water cool down.'),\n",
       " (6.0,\n",
       "  'I would first gather all of the dirty dishes. Then I would put them into the dishwasher. I would put the soap in the dishwasher. I would turn the dishwasher on.'),\n",
       " (6.0,\n",
       "  'I would first put on an apron to protect my clothes. Then I would gather the dirty dishes and put them in the sink. I would then put water and soap in the sink. I would wash the dishes and then dry them.'),\n",
       " (6.0,\n",
       "  'I would first look for the closest sink. I would then find the soap and the sponge. I would then turn on the hot water. I would then find the dishes and put them in the sink. I would then put the soap on the sponge and scrub the dishes with the sponge. I would then rinse the dishes off.'),\n",
       " (6.0,\n",
       "  'I would first put on gloves and then I would get a sponge and some soap and then I would wash the dishes.')]"
      ]
     },
     "execution_count": 33,
     "metadata": {},
     "output_type": "execute_result"
    }
   ],
   "source": [
    "source = \"gpt-3\"\n",
    "constraint = \"unconstrained\"\n",
    "sample_data[constraint][source]"
   ]
  },
  {
   "cell_type": "code",
   "execution_count": 34,
   "metadata": {},
   "outputs": [],
   "source": [
    "sample_goal = \"Get your sofa onto the roof of your house\"#\"Cool down in a record-breaking heat wave\""
   ]
  },
  {
   "cell_type": "code",
   "execution_count": 44,
   "metadata": {},
   "outputs": [
    {
     "name": "stdout",
     "output_type": "stream",
     "text": [
      "\n",
      "Constraint: unconstrained, Source: gpt-3 \n",
      "Goal: Get your sofa onto the roof of your house.\n",
      "\t (3.25, 'I would firstly make a plan on how to get my sofa to the roof. Secondly,I will put my sofa on a truck and take it to the top of my house.')\n",
      "\t (3.6666666666666665, 'I would start by getting a very strong ladder and a very strong friend. I would then use the ladder to climb onto the roof and then I would use the sofa and my friend to get it up there. I would do this by placing the sofa on top of the roof and then using my friend to help me lift the sofa onto the roof.')\n",
      "\t (3.6666666666666665, 'I would get a ladder and try to get it up there.')\n",
      "\t (3.75, 'I would first have to measure my front door and the width of my sofa. I would then have to find a way to lift the sofa up to my roof.')\n",
      "\t (3.75, 'I would first try to determine if it was possible to get the sofa up there. If it was, I would then try to figure out how to lift it up there.')\n",
      "\t (4.25, 'I would get a strong rope and tie it to the sofa and the roof. Then I would pull the sofa up.')\n",
      "\t (4.333333333333333, 'I would go to a furniture store and buy a sofa that is easy to carry. I would then take it to a friends house that has a ladder tall enough to reach the roof.')\n",
      "\t (4.5, 'I would first need to measure the height of my house and the length of my sofa. I would then need to find a way to get the sofa up to the roof. I would probably need to get a ladder or some sort of lift to get the sofa up there.')\n",
      "\n",
      "Constraint: constrained_single, Source: gpt-3 \n",
      "Goal: Get your sofa onto the roof of your house, without using a pulley.\n",
      "\t (2.6666666666666665, 'I would use a rope to tie to each side of the sofa and tie it to a tree on each side of the house.')\n",
      "\t (3.0, 'I would get a dolly to put the sofa on.')\n",
      "\t (3.0, 'I would have a friend help me lift it up and over the edge of the roof. Then I would have him stand on the roof while I climb up on the sofa and have him boost me up onto the roof.')\n",
      "\t (3.0, 'I would use a rope to tie around the sofa and connect it to a car.')\n",
      "\t (3.0, 'I would use a rope to tie the sofa to the top of the house. Then I would use a rope to tie my car to the sofa. I would have to have a very long rope to tie my car to the sofa.')\n",
      "\t (3.3333333333333335, 'I would get a long rope and tie it to the sofa, then I would go to the other side of the house and tie the other end to the chimney. Then I would tell my husband to go inside the house and start pulling the rope. Once he gets the sofa to the roof, I would tie the rope to the chimney and the sofa.')\n",
      "\t (3.3333333333333335, 'I would use a rope and tie it to the back of the sofa and would go around the house and tie it to the chimney.')\n",
      "\t (3.3333333333333335, 'I would first take the sofa outside and then I would tie a rope around the middle of the sofa. I would tie the other end of the rope around a tree that is tall enough to get the sofa on the roof.')\n",
      "\n",
      "Constraint: constrained_many, Source: gpt-3 \n",
      "Goal: Get your sofa onto the roof of your house, without using a pulley, a Genie lift, a protective plastic layer, a ladder, or a crane.\n",
      "\t (2.5, 'I would use a rope to tie it to the chimney and then tie the other end to the bumper of my car. Then I would back my car up and pull the sofa up to the roof.')\n",
      "\t (2.6666666666666665, 'I would get a ladder and get on the roof of my house. Then I would get a rope and tie it to the sofa. I would then get a car and have it drive under the rope. I would then pull the rope and the sofa would go up and over the roof of the house. I would then get a car and have it drive under the rope.')\n",
      "\t (2.6666666666666665, 'I would first put the sofa on the roof then I would use a rope to tie the sofa to the roof.')\n",
      "\t (2.6666666666666665, 'I would have to cut the bottom of the sofa so that it would fit through the window. I would then have to break the windows to make room for the sofa.')\n",
      "\t (2.75, 'I would find a way to tie the cushions together and then tie that to a rope that I would tie to a tree.')\n",
      "\t (2.75, 'I would get a car with a hydraulic lift. I would then put the sofa into the car.')\n",
      "\t (3.0, 'I would use a rope to tie the sofa to the roof of my house.')\n",
      "\t (3.0, 'I would use a little bit of rope and tie it around the sofa. I would then attach the rope to a tree and pull the sofa up. The sofa would then be on the roof.')\n",
      "\n",
      "Constraint: unconstrained, Source: human \n",
      "Goal: Get your sofa onto the roof of your house.\n",
      "\t (3.857142857142857, 'this will not be easy to be honest but the i will build a stairs to the roof of the house from which i will gather men together with myself and then we all pull or push the sofa to the roof.')\n",
      "\t (4.0, \"I'm gonna call someone to fix my sofa onto the roof of my house very soon.\")\n",
      "\t (4.142857142857143, '1) cover the sofa in a protective layer, such as plastic. 2) move sofa to the outside of the house. 3) have someone climb onto the roof using a ladder. 4) using that same ladder, move the sofa, with the help of the person on the roof, onto the roof.')\n",
      "\t (4.428571428571429, 'The easiest way would be a crane but it would be costly.')\n",
      "\t (4.571428571428571, 'To get a sofa onto the roof of the house, there could be several options to achieve this task. This would depend on tall the house was. This could require different machinery as well. I am not too familiar with equipment like that, but something like a crane or something similar to lift heavy objects could be useful. This would require also at least someone to operate the machine. If the house is shorter, potentially a sturdy ladder and a few people who are capable of carrying the couch could do.')\n",
      "\t (4.714285714285714, \"1: download Taskrabbit and setup an account. 2: describe your goal in a call for taskers. 3: let a stranger into your house to help you move your couch. 4: invite your new friend to stay a while at the couch's new location with a refreshing drink, maybe? Politely laugh it off when he declines.\")\n",
      "\t (4.857142857142857, 'You will need a way to climb up onto the roof. Is there a stairway to the roof? You may need to rent a Genie lift large enough to carry the sofa. You will need at least one other person to help you lift and carry the sofa. Trying to use ladders would be a dangerous way to get to the roof. I fell off a ladder once and injured myself. I do Not recommend using ladders.')\n",
      "\t (5.285714285714286, \"Need a pulley system. Moving furniture is no joke. I'll take off the screens and windows and pass the sofa through the opening. I've measured, it's large enough. The most important step is setting up the pulley on the roof. The pulley needs to be securely fastened to a fixed structure, or attached to a rig that is satisfactorily counterweighted down. then I'll need one extra guy to guide it through the window opening while I pull the rope, and then to guide it onto the roof when it's been sufficiently hoisted.\")\n",
      "\n",
      "Constraint: constrained_single, Source: human \n",
      "Goal: Get your sofa onto the roof of your house, without using a pulley.\n",
      "\t (3.1666666666666665, 'I would first get a ladder tall enough to reach the roof of my house. I would then get a lot of strong people to come and help. We could line people up the ladder and, as a team, ease the sofa up to the top of the roof.')\n",
      "\t (3.5, 'Luckily I know a strong guy. First, the ladder. We have a one story house, so first we set an extension ladder set at a low angle. Then we load some ropes around it. At the top I am holding the ropes, pulling. Second, my friend is behind it pushing.')\n",
      "\t (4.333333333333333, 'My plan is to push the sofa up through the attic window, with friends on the roof who can pull it up from there.')\n",
      "\t (4.5, 'Without a pulley... so man power. Find a few strong friends to lift it. Get another friend on the roof to hold a rope that is also around the sofa, not to lift it but to help guide it to make it easier for the other guys to lift.')\n",
      "\t (4.5, 'You could take the feet off the sofa so it is more streamlined and hire some guys to carry up the stairs or load it into the elevator.')\n",
      "\t (4.833333333333333, \"We could disassemble the sofa, and then reassemble it. Depending on the weight, we could use a scissor lift or forklift. We could use a helicopter or a crane to drop it. We'd need to be careful not to drop it too hard, or it would crash into the living room!.\")\n",
      "\t (5.166666666666667, 'I would get a giant crane and secure the sofa to the crane and use the crane to lift it to the roof of my house.')\n",
      "\t (5.5, 'Google how to get a sofa onto a roof without using a pulley. Decide which way is easiest and cheapest. Make a plan to get what is needed to do the task. Maybe hire a crane! Or build a crane out of wood.')\n",
      "\n",
      "Constraint: constrained_many, Source: human \n",
      "Goal: Get your sofa onto the roof of your house, without using a pulley, a Genie lift, a protective plastic layer, a ladder, or a crane.\n",
      "\t (2.7142857142857144, '1) Cut sofa in half or even quarters if necessary. . 2) Get some big guys or movers. . 3) Have them climb on roof and just carry or throw the sofa parts up. . 4) Sew or tape your sofa back together.')\n",
      "\t (3.5714285714285716, 'A few days before you move the sofa onto the roof, gather a group of two to three people who will be willing to help you that day. Also, obtain a strong, sturdy rope. On the day of putting the sofa on the roof, tie the rope around the sofa. Have three of the people on the roof pulling the sofa up onto the roof and you and/or someone else monitoring from the ground.')\n",
      "\t (3.7142857142857144, 'You could gather up some strong friends. Have some get on the roof and others stand on the ground and lift it up to the ones on the roof.')\n",
      "\t (4.0, \"What you're going to have to do is get 3 to 4 very strong men together. One will have to stand on the ground and guide the couch upwards towards the roof while another helps from the ground. The other two will be on the roof pulling up the couch slowly. One will pull up the couch while the other steadys the other pulling up the couch, and makes sure the couch comes up slowly and steady.\")\n",
      "\t (4.285714285714286, 'This would need quite a few people I think because a sofa is heavy. Wrap the sofa in fabric tarps and tie it all up with a rope. Then tie more ropes to it to help pull it up onto the roof. Have at least 3 strong men to pull it up, but more people would make it even easier, like 6 or 7. Have people standing on the ground helping to lift it up as well. Or make a big ramp or stairs out of wood and carry it up that way using multiple people.')\n",
      "\t (4.428571428571429, 'I would call all of my strongest friends to come help me move it out of my house. Then buy a large ramp or pile up cinder blocks to get the latter up with the help of the other people.')\n",
      "\t (5.0, 'I will build a large wooden ramp with steps on the side of the ramp on the side of my house with platforms to rest the couch on every 5 feet. I will then Gather a few friends to help me Push the couch up the ramp. Three of us will start the bottom of the ramp push it up to the first platform while one guy is already on top of the first platform to help get the couch on top of it. Next we will do the same concept on the first platform up to the second platform. From the second platform we can Just lift the couch up and place it on top of the roof.')\n",
      "\t (5.0, 'I would build a ramp with supporting beams underneath. Once the ramp is built, I would be able to push it up onto the roof.')\n"
     ]
    }
   ],
   "source": [
    "# extract generations for specific representative stimuli \n",
    "sample_data = {constraint: {} for constraint in constraints} \n",
    "for source in sources: \n",
    "    for goal, goal_data in data_per_goal[source].items(): \n",
    "        if sample_goal in goal: \n",
    "            constraint = goal_data[0][\"constraint\"]\n",
    "            \n",
    "            print(f\"\\nConstraint: {constraint}, Source: {source} \\n{goal}\")\n",
    "            # sort generations by mean rating\n",
    "            means = [(plan_data[\"mean\"], plan_data[\"generation\"]) for plan_data in goal_data]\n",
    "            means = sorted(means, key=lambda x: x[0])\n",
    "            \n",
    "            middle = int(len(means)/2)\n",
    "#             print(\"\\n\\tMiddle: \", means[int(len(means)/2)], \"\\n\")\n",
    "            samples = means[middle-4:middle+4]\n",
    "            for sample in samples: \n",
    "                print(\"\\t\",sample)\n",
    "            \n",
    "            sample_data[constraint][source] = means\n",
    "\n"
   ]
  },
  {
   "cell_type": "code",
   "execution_count": null,
   "metadata": {},
   "outputs": [],
   "source": [
    "source = \"human\"\n",
    "constraint = \"unconstrained\"\n",
    "sample_data[constraint][source], sample_data[constraint][source][4:6]#[9:11]"
   ]
  },
  {
   "cell_type": "code",
   "execution_count": 37,
   "metadata": {},
   "outputs": [
    {
     "data": {
      "text/plain": [
       "([(3.857142857142857,\n",
       "   'I get a ladder and some persons climb up while others are down and a rope is attached to the sofa to drag it up.'),\n",
       "  (3.857142857142857,\n",
       "   'this will not be easy to be honest but the i will build a stairs to the roof of the house from which i will gather men together with myself and then we all pull or push the sofa to the roof.'),\n",
       "  (4.0,\n",
       "   \"I'm gonna call someone to fix my sofa onto the roof of my house very soon.\"),\n",
       "  (4.142857142857143,\n",
       "   '1) cover the sofa in a protective layer, such as plastic. 2) move sofa to the outside of the house. 3) have someone climb onto the roof using a ladder. 4) using that same ladder, move the sofa, with the help of the person on the roof, onto the roof.'),\n",
       "  (4.428571428571429,\n",
       "   'The easiest way would be a crane but it would be costly.'),\n",
       "  (4.571428571428571,\n",
       "   'To get a sofa onto the roof of the house, there could be several options to achieve this task. This would depend on tall the house was. This could require different machinery as well. I am not too familiar with equipment like that, but something like a crane or something similar to lift heavy objects could be useful. This would require also at least someone to operate the machine. If the house is shorter, potentially a sturdy ladder and a few people who are capable of carrying the couch could do.'),\n",
       "  (4.714285714285714,\n",
       "   \"1: download Taskrabbit and setup an account. 2: describe your goal in a call for taskers. 3: let a stranger into your house to help you move your couch. 4: invite your new friend to stay a while at the couch's new location with a refreshing drink, maybe? Politely laugh it off when he declines.\"),\n",
       "  (4.857142857142857,\n",
       "   'You will need a way to climb up onto the roof. Is there a stairway to the roof? You may need to rent a Genie lift large enough to carry the sofa. You will need at least one other person to help you lift and carry the sofa. Trying to use ladders would be a dangerous way to get to the roof. I fell off a ladder once and injured myself. I do Not recommend using ladders.'),\n",
       "  (5.285714285714286,\n",
       "   \"Need a pulley system. Moving furniture is no joke. I'll take off the screens and windows and pass the sofa through the opening. I've measured, it's large enough. The most important step is setting up the pulley on the roof. The pulley needs to be securely fastened to a fixed structure, or attached to a rig that is satisfactorily counterweighted down. then I'll need one extra guy to guide it through the window opening while I pull the rope, and then to guide it onto the roof when it's been sufficiently hoisted.\"),\n",
       "  (5.857142857142857,\n",
       "   'First you should determine how many people you will need. This will depend on how tall the house is and how big the couch is. Getting the couch onto the roof will likely require someone on top of the roof as well. If the roof cannot be accessed without a ladder one should be gotten. The couch should be covered to prevent damage. The parties involved should use a type of strap that allows leverage to hoist the couch up. The couch should be pulled up and also guided to not damage anything.')],\n",
       " [(4.428571428571429,\n",
       "   'The easiest way would be a crane but it would be costly.'),\n",
       "  (4.571428571428571,\n",
       "   'To get a sofa onto the roof of the house, there could be several options to achieve this task. This would depend on tall the house was. This could require different machinery as well. I am not too familiar with equipment like that, but something like a crane or something similar to lift heavy objects could be useful. This would require also at least someone to operate the machine. If the house is shorter, potentially a sturdy ladder and a few people who are capable of carrying the couch could do.')])"
      ]
     },
     "execution_count": 37,
     "metadata": {},
     "output_type": "execute_result"
    }
   ],
   "source": [
    "source = \"human\"\n",
    "constraint = \"unconstrained\"\n",
    "sample_data[constraint][source], sample_data[constraint][source][4:6]#[9:11]"
   ]
  },
  {
   "cell_type": "code",
   "execution_count": 41,
   "metadata": {},
   "outputs": [
    {
     "data": {
      "text/plain": [
       "[(3.142857142857143,\n",
       "  'I will fill the bathtub with cold water and dump some ice cubes in there. I will also put the fan next to the tub and turn it on. I will jump into the ice cold tub and eat a popsicle while at it. After my tub I will drink cold bottled water for the rest of the day.'),\n",
       " (4.0,\n",
       "  'use a dehumidifier in the home to increase evaporation from your skin to cool down.'),\n",
       " (4.142857142857143,\n",
       "  'I will be inside of my house in the shade. I will install some heat blocking shades in my windows. I will then strip down naked, cover my body in cooling lotion and than lay down on the tile floor.'),\n",
       " (4.285714285714286,\n",
       "  'I would wet shirts and bath towels with warm water and place them into a refrigerator. Eventually they will become cool and I can put the shirts on and use the towels to cool down even more.'),\n",
       " (4.571428571428571,\n",
       "  'You would find a tree with a good shade and sit underneath it and wait for a cool breeze to come by.'),\n",
       " (4.714285714285714,\n",
       "  'To cool down in record-breaking heat, find a pool or a body of water and get in it. The water will be a cooler temperature than the air. Additionally, getting out of the water and into a breeze will feel very relieving from the heat. Additionally, you can find a tile floor, lift up your shirt, and lay down on the floor facing up. The floor will be a cooler temperature and will cool you down.'),\n",
       " (5.0,\n",
       "  'You find a large tree and sit under it in the shade and let the natural breeze cool you.'),\n",
       " (5.0,\n",
       "  '1) Go to store and buy an inflatable pool and umbrella. . 2) Set up pool and and cover with umbrella. . 3) Fill water with NOT cold but not HOT water. . 4) Enjoy the pool and stay cool.'),\n",
       " (5.142857142857143,\n",
       "  'Go to a lake, river, stream or body of water and lay in the water all day. Bring lots of filtered tap water filled in a reusable water jug to keep hydrated. Eat foods that contain lots of water like fresh fruits and vegetables.'),\n",
       " (5.285714285714286,\n",
       "  'The first thing I would do is find some shade. I would use umbrellas or clothing to set up around me to try to stop any indirect heat. I would also lay in the grass and maybe even dig in the dirt because that is cooler. I would try to stay still and put my hair up.')]"
      ]
     },
     "execution_count": 41,
     "metadata": {},
     "output_type": "execute_result"
    }
   ],
   "source": [
    "sample_data[\"constrained_many\"][\"human\"]"
   ]
  },
  {
   "cell_type": "code",
   "execution_count": null,
   "metadata": {},
   "outputs": [],
   "source": [
    "num_generations"
   ]
  },
  {
   "cell_type": "code",
   "execution_count": null,
   "metadata": {},
   "outputs": [],
   "source": [
    "# save out the best and worst generations\n",
    "stat = \"mean\"\n",
    "threshold = 2\n",
    "for source in sources: \n",
    "    filepth = f\"{save_dir}/bad_plans_{source}.txt\"\n",
    "    f = open(filepth, 'w')\n",
    "    f.write(\"Worst Plans (Mean Likert < 2)\\n\")\n",
    "    count = 0\n",
    "    for constraint in constraints: \n",
    "        f.write(f\"\\nConstraint Type: {constraint} \\n\")\n",
    "        for datum in grouped_data[source][constraint]: \n",
    "            rating = datum[stat]\n",
    "            if rating < threshold: \n",
    "                f.write(f\"\\n{datum['stimuli']}\")\n",
    "                f.write(f\"\\tGeneration: {datum['generation']}\")\n",
    "                f.write(f\"\\tMedian Rating: {datum['median']}\")\n",
    "                f.write(f\"\\tMedian Rating: {datum['mean']}\")\n",
    "                f.write(f\"\\tAll Ratings: {datum['ratings']}\")\n",
    "                count += 1\n",
    "    print(f\"{source}, {round((count/num_generations[source])*100, 2)}% bad\")"
   ]
  },
  {
   "cell_type": "code",
   "execution_count": null,
   "metadata": {},
   "outputs": [],
   "source": [
    "# save out the best and worst generations\n",
    "stat = \"mean\"\n",
    "threshold = 6\n",
    "for source in sources: \n",
    "    filepth = f\"{save_dir}/good_plans_{source}.txt\"\n",
    "    f = open(filepth, 'w')\n",
    "    f.write(\"Best Plans (Mean Likert > 6)\\n\")\n",
    "    count = 0\n",
    "    for constraint in constraints: \n",
    "        f.write(f\"\\nConstraint Type: {constraint} \\n\")\n",
    "        for datum in grouped_data[source][constraint]: \n",
    "            rating = datum[stat]\n",
    "            if rating > threshold: \n",
    "                f.write(f\"\\n{datum['stimuli']}\")\n",
    "                f.write(f\"\\tGeneration: {datum['generation']}\")\n",
    "                f.write(f\"\\tMedian Rating: {datum['median']}\")\n",
    "                f.write(f\"\\tMedian Rating: {datum['mean']}\")\n",
    "                f.write(f\"\\tAll Ratings: {datum['ratings']}\")\n",
    "                count += 1\n",
    "    print(f\"{source}, {round((count/num_generations[source])*100, 2)}% good\")"
   ]
  },
  {
   "cell_type": "code",
   "execution_count": null,
   "metadata": {},
   "outputs": [],
   "source": [
    "# # save out the best and worst generations\n",
    "# stat = \"mean\"\n",
    "# threshold = 2\n",
    "# for source in sources: \n",
    "#     count = 0\n",
    "#     for constraint in constraints: \n",
    "#         print(f\"\\nConstraint Type: {constraint} \\n\")\n",
    "#         for datum in grouped_data[source][constraint]: \n",
    "#             rating = datum[stat]\n",
    "#             if rating < threshold: \n",
    "#                 print(\"\\n\" + datum[\"stimuli\"])\n",
    "#                 print(\"\\tGeneration: \", datum[\"generation\"])\n",
    "#                 print(\"\\tMedian Rating: \", datum[\"median\"])\n",
    "#                 print(\"\\tMedian Rating: \", datum[\"mean\"])\n",
    "#                 print(\"\\tAll Ratings: \", datum[\"ratings\"])\n",
    "#                 count += 1\n",
    "#     print(f\"{source} proportion bad: {(count/num_generations[source])*100}\")"
   ]
  },
  {
   "cell_type": "code",
   "execution_count": null,
   "metadata": {},
   "outputs": [],
   "source": [
    "ratings = []\n",
    "data = grouped_data\n",
    "for constraint in constraints:\n",
    "    for source in grouped_data:\n",
    "        for generation_data in grouped_data[source][constraint]:\n",
    "            for r in generation_data[\"ratings\"]:\n",
    "                row = [constraint, source, r]\n",
    "                ratings.append(row)\n",
    "    \n",
    "rating_df = pd.DataFrame(ratings, columns = ['Number of Constraints', 'Subject ID', 'Rating'])\n",
    "\n",
    "fig, ax = plt.subplots(figsize=(8,6))\n",
    "ax = sns.boxplot(x='Number of Constraints', y='Rating', hue='Subject ID', data=rating_df)\n",
    "ax.set(ylabel='Goodness Rating Across Goals (1-7)', title='Plan Goodness Rating vs Number of Constraints')\n",
    "plt.legend(bbox_to_anchor=(1.05, 1), loc=2, borderaxespad=0.)                                         \n",
    "                                           "
   ]
  },
  {
   "cell_type": "code",
   "execution_count": null,
   "metadata": {},
   "outputs": [],
   "source": [
    "ratings = []\n",
    "data = grouped_data\n",
    "for constraint in constraints:\n",
    "    for source in grouped_data:\n",
    "        for generation_data in grouped_data[source][constraint]:\n",
    "            row = [constraint, source, generation_data[\"mean\"]]\n",
    "            ratings.append(row)\n",
    "    \n",
    "rating_df = pd.DataFrame(ratings, columns = ['Number of Constraints', 'Subject ID', 'Rating'])\n",
    "\n",
    "fig, ax = plt.subplots(figsize=(8,6))\n",
    "ax = sns.boxplot(x='Number of Constraints', y='Rating', hue='Subject ID', data=rating_df)\n",
    "ax.set(ylabel='Goodness Rating Across Goals (1-7)', title='Plan Goodness Rating vs Number of Constraints')\n",
    "plt.legend(bbox_to_anchor=(1.05, 1), loc=2, borderaxespad=0.)                                         \n",
    "                                           "
   ]
  },
  {
   "cell_type": "code",
   "execution_count": null,
   "metadata": {},
   "outputs": [],
   "source": [
    "stimuli_per_cond[\"unconstrained\"]"
   ]
  },
  {
   "cell_type": "code",
   "execution_count": null,
   "metadata": {},
   "outputs": [],
   "source": [
    "# np.array(sorted_goals).reshape([int(n_stimuli/(rows * cols)), rows, cols])"
   ]
  },
  {
   "cell_type": "code",
   "execution_count": null,
   "metadata": {},
   "outputs": [],
   "source": [
    "generation_data[\"stimuli\"]"
   ]
  },
  {
   "cell_type": "code",
   "execution_count": null,
   "metadata": {},
   "outputs": [],
   "source": [
    "# plot goodness broken down by stimuli\n",
    "# 28 stimuli in total - show 4 per page\n",
    "n_stimuli = 28\n",
    "cols = 2 \n",
    "rows = 2 \n",
    "\n",
    "# based on likert scale\n",
    "max_y = 7 # showing rating on a scale of 1 to 7\n",
    "\n",
    "pdf_pth = f'{save_dir}/per_stimuli_goodness_plans_all.pdf'\n",
    "    \n",
    "# stims = np.array(stimuli_per_cond[\"unconstrained\"]).reshape([int(n_stimuli/(rows * cols)), rows, cols])\n",
    "stims = np.array(sorted_goals).reshape([int(n_stimuli/(rows * cols)), rows, cols])\n",
    "\n",
    "show_mean = False\n",
    "\n",
    "with PdfPages(pdf_pth) as pdf:\n",
    "    for stim_batch in stims: \n",
    "        f = plt.figure(figsize=(14, 8), dpi=600)\n",
    "        gs0 = gridspec.GridSpec(rows, cols, figure=f,\n",
    "                               wspace=0.2, hspace=0.3)\n",
    "        for i in range(rows): \n",
    "            for j in range(cols): \n",
    "                stim_name = stim_batch[i][j]\n",
    "#                 stim_fragment = stim_name.split(\"Goal: \")[1][:-1] # consistent portion across goal types\n",
    "                stim_fragment = stim_name.split(\".\")[0] # consistent portion across goal types\n",
    "                ax = f.add_subplot(gs0[i, j])\n",
    "                \n",
    "                ratings = []\n",
    "                data = grouped_data\n",
    "                for constraint in constraints:\n",
    "                    for source in grouped_data:\n",
    "                        for generation_data in grouped_data[source][constraint]:\n",
    "                            if stim_fragment in generation_data[\"stimuli\"]: \n",
    "                                if show_mean: \n",
    "                                    row = [constraint, source, generation_data[\"mean\"]]\n",
    "                                    ratings.append(row)\n",
    "                                else: \n",
    "                                    for k in generation_data[\"ratings\"]: \n",
    "                                        row = [constraint, source, k]\n",
    "                                        ratings.append(row)\n",
    "\n",
    "                rating_df = pd.DataFrame(ratings, columns = ['Number of Constraints', 'Subject ID', 'Rating'])\n",
    "\n",
    "                sns.boxplot(x='Number of Constraints', y='Rating', hue='Subject ID', data=rating_df,\n",
    "                                ax=ax)\n",
    "#                 plt.legend(bbox_to_anchor=(1.05, 1), loc=2, borderaxespad=0.) \n",
    "#                 sns.barplot(x=\"dimension\", y=\"rating\", hue=\"source\", \n",
    "#                             data=show_df, \n",
    "#                             ci=None, ax = ax)\n",
    "                ax.set_ylim([0, max_y])\n",
    "                ax.set_yticks([1,2,3,4,5,6,7])\n",
    "                title = stim_fragment\n",
    "                ax.set_title(title, fontsize=10)\n",
    "                \n",
    "                ax.set_xlabel(\"Plan Goodness (1=Worst, 7=Best)\", fontsize=10)\n",
    "#                 else: ax.set_xlabel(\"\")\n",
    "#                 if current_col == 1: \n",
    "#                     ax.set_ylabel(\"\")\n",
    "                ax.set_ylabel(\"Median Rating\", fontsize=10)\n",
    "                \n",
    "        pdf.savefig()"
   ]
  },
  {
   "cell_type": "code",
   "execution_count": null,
   "metadata": {},
   "outputs": [],
   "source": [
    "stim_batch"
   ]
  },
  {
   "cell_type": "code",
   "execution_count": null,
   "metadata": {},
   "outputs": [],
   "source": [
    "grouped_data[\"human\"][\"constrained_single\"]"
   ]
  },
  {
   "cell_type": "code",
   "execution_count": null,
   "metadata": {},
   "outputs": [],
   "source": []
  }
 ],
 "metadata": {
  "interpreter": {
   "hash": "6bfba3d9cec53d1fa1d59f855399e26dded27ccf19705ae5a5112c9714ee83ae"
  },
  "kernelspec": {
   "display_name": "Python 3",
   "language": "python",
   "name": "python3"
  },
  "language_info": {
   "codemirror_mode": {
    "name": "ipython",
    "version": 3
   },
   "file_extension": ".py",
   "mimetype": "text/x-python",
   "name": "python",
   "nbconvert_exporter": "python",
   "pygments_lexer": "ipython3",
   "version": "3.8.8"
  }
 },
 "nbformat": 4,
 "nbformat_minor": 2
}
