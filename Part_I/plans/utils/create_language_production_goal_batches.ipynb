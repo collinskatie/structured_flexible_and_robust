{
 "cells": [
  {
   "cell_type": "code",
   "execution_count": 1,
   "id": "9994f0f7",
   "metadata": {},
   "outputs": [],
   "source": [
    "'''\n",
    "Create batches for each condition \n",
    "Read in goals and yield non-overlapping sets of goals\n",
    "This is used to batch the goals before running the language production experiment\n",
    "'''\n",
    "\n",
    "import json\n",
    "import numpy as np\n",
    "import random\n",
    "\n",
    "seed = 9\n",
    "\n",
    "np.random.seed(seed) # ensure reproducible division \n",
    "random.seed(seed)"
   ]
  },
  {
   "cell_type": "code",
   "execution_count": 2,
   "id": "03ece642",
   "metadata": {},
   "outputs": [],
   "source": [
    "# read in list of goals\n",
    "\n",
    "raw_stim_pth = \"./final_stimuli.json\"\n",
    "\n",
    "with open(raw_stim_pth) as f:\n",
    "     stimuli = json.load(f)"
   ]
  },
  {
   "cell_type": "code",
   "execution_count": 3,
   "id": "5a65b1e4",
   "metadata": {},
   "outputs": [],
   "source": [
    "# batch goals (one set of goals per \"condition\")\n",
    "n_conditions = 4\n",
    "batch_size = int(len(stimuli)/n_conditions) # assume number of conditions divides evenly into number of goals\n",
    "\n",
    "# shuffle list of goals\n",
    "random.shuffle(stimuli)\n",
    "\n",
    "# divide based on indices \n",
    "batches = []\n",
    "for i in range(n_conditions): \n",
    "    batches.append(stimuli[(i*batch_size):(i*batch_size)+batch_size])"
   ]
  },
  {
   "cell_type": "code",
   "execution_count": 4,
   "id": "1d0c81f6",
   "metadata": {},
   "outputs": [
    {
     "data": {
      "text/plain": [
       "[[{'goal': 'Protect the deer in your nearby woods during hunting season.'},\n",
       "  {'goal': 'Jump over a six foot tall man.'},\n",
       "  {'goal': 'Bake a cake.'},\n",
       "  {'goal': 'Escape quicksand.'},\n",
       "  {'goal': 'Escape from inside a locked custodial closet.'},\n",
       "  {'goal': \"Build a float to dazzle the crowd at the Macy's Day Parade.\"},\n",
       "  {'goal': 'Paint a fence.'}],\n",
       " [{'goal': 'Help your local town mayor win re-election.'},\n",
       "  {'goal': 'Take your dog for a walk.'},\n",
       "  {'goal': 'Make a pair of new shoes.'},\n",
       "  {'goal': 'Play baseball with your friends.'},\n",
       "  {'goal': 'Get your sofa onto the roof of your house.'},\n",
       "  {'goal': \"Steal the championship trophy from behind your school's award case.\"},\n",
       "  {'goal': 'Cool down in a record-breaking heat wave.'}],\n",
       " [{'goal': 'Stop your canoe from falling down the waterfall.'},\n",
       "  {'goal': 'Keep a baby platupyus entertained.'},\n",
       "  {'goal': \"Order food in a restaurant, where you don't speak the native language.\"},\n",
       "  {'goal': 'Remove plaque from the teeth of a lion.'},\n",
       "  {'goal': \"Decorate the world's largest Christmas tree.\"},\n",
       "  {'goal': 'Build a bookshelf.'},\n",
       "  {'goal': 'Cut down a tree.'}],\n",
       " [{'goal': 'Find out how many sharks live in a cove off a nearby coast.'},\n",
       "  {'goal': 'Clean the dirty dishes.'},\n",
       "  {'goal': 'Fix a flat tire.'},\n",
       "  {'goal': 'Keep the plants in your garden alive.'},\n",
       "  {'goal': 'Put out a fire that started near the wires from your TV.'},\n",
       "  {'goal': 'Create a safe landing for a falling skydiver.'},\n",
       "  {'goal': 'Make a fort underwater.'}]]"
      ]
     },
     "execution_count": 4,
     "metadata": {},
     "output_type": "execute_result"
    }
   ],
   "source": [
    "# inspect for proper diversity of difficulty w/in batch\n",
    "# manually copy over into a .js file and add \"var test_stimuli=...\"\n",
    "\n",
    "batches"
   ]
  }
 ],
 "metadata": {
  "kernelspec": {
   "display_name": "Python 3",
   "language": "python",
   "name": "python3"
  },
  "language_info": {
   "codemirror_mode": {
    "name": "ipython",
    "version": 3
   },
   "file_extension": ".py",
   "mimetype": "text/x-python",
   "name": "python",
   "nbconvert_exporter": "python",
   "pygments_lexer": "ipython3",
   "version": "3.8.8"
  }
 },
 "nbformat": 4,
 "nbformat_minor": 5
}
