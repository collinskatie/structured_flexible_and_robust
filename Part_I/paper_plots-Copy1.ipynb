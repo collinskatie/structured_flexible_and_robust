{
 "cells": [
  {
   "cell_type": "code",
   "execution_count": 3,
   "metadata": {},
   "outputs": [],
   "source": [
    "'''\n",
    "Script to generate plots from paper for Part II\n",
    "'''\n",
    "\n",
    "import numpy as np\n",
    "import pandas as pd\n",
    "import json \n",
    "import os\n",
    "import sys\n",
    "import random\n",
    "import math\n",
    "import matplotlib.pylab as plt \n",
    "import seaborn as sns\n",
    "import scipy.stats as stats\n",
    "from matplotlib.font_manager import FontProperties\n",
    "from matplotlib.backends.backend_pdf import PdfPages\n",
    "import matplotlib.gridspec as gridspec\n",
    "import itertools\n",
    "import matplotlib"
   ]
  },
  {
   "cell_type": "code",
   "execution_count": 4,
   "metadata": {},
   "outputs": [],
   "source": [
    "def parse_rating(rating_str): \n",
    "    # cognition.run saves all data as strings\n",
    "    # need to parse dictionary from a string\n",
    "    # returns an int\n",
    "    rating = rating_str.split(\":\")[-1].split(\"}\")[0]\n",
    "    return int(rating)\n",
    "\n",
    "import os\n",
    "save_dir = \"./final_plots/\"\n",
    "if not os.path.exists(save_dir):\n",
    "    os.makedirs(save_dir)\n",
    "    \n",
    "sources = [\"human\", \"gpt-3\"]\n",
    "constraints = ['unconstrained', 'constrained_single', 'constrained_many']\n",
    "constraints_exps = ['unconstrained', 'single-constraint', 'all-constraints']"
   ]
  },
  {
   "cell_type": "code",
   "execution_count": 5,
   "metadata": {},
   "outputs": [
    {
     "name": "stderr",
     "output_type": "stream",
     "text": [
      "<ipython-input-5-798208f0dd55>:6: FutureWarning: In a future version of pandas all arguments of DataFrame.dropna will be keyword-only\n",
      "  df = df.dropna(0, subset=[\"PROLIFIC_PID\", \"prompt\"])\n"
     ]
    },
    {
     "name": "stdout",
     "output_type": "stream",
     "text": [
      "Num subjs:  194 , Num rows:  12904\n",
      "Num goals:  84  rating df:  11600\n"
     ]
    }
   ],
   "source": [
    "# planning data \n",
    "data_pth = \"/Users/kcollins/language_and_structure_of_thoughts/plans/exp_results/group-a-mixed-group-b-rate-overall-goodness-of-plans-final.csv\"\n",
    "\n",
    "df = pd.read_csv(data_pth)\n",
    "# remove any runs w/o PIDs (incomplete)\n",
    "df = df.dropna(0, subset=[\"PROLIFIC_PID\", \"prompt\"])\n",
    "\n",
    "# filter out problem saves\n",
    "df = df[(df.PROLIFIC_PID != '2021-10-13 17:10:06') &\n",
    "       (df.PROLIFIC_PID != '2021-10-13 17:14:36')&\n",
    "       (df.PROLIFIC_PID != '\"')&\n",
    "       (df.PROLIFIC_PID != '2021-10-14 12:31:35')&\n",
    "       (df.PROLIFIC_PID!='2021-10-14 17:20:39')&\n",
    "       (df.PROLIFIC_PID != '2021-10-14 19:06:42')&\n",
    "       (df.PROLIFIC_PID != '2021-10-14 18:48:45')&\n",
    "       (df.PROLIFIC_PID != '2021-10-15 14:46:26')].reset_index()\n",
    "\n",
    "# extract subj ids\n",
    "all_subjs = set(df.PROLIFIC_PID)\n",
    "\n",
    "print(\"Num subjs: \", len(all_subjs), \", Num rows: \", len(df))\n",
    "df.head(3)\n",
    "\n",
    "# filter out to only include the ratings\n",
    "# e.g., any response that was of type \"rate_goodness\" \n",
    "rating_df = df[(df.task == \"rate_goodness\")].reset_index()\n",
    "# gather all goals\n",
    "all_goals = set(rating_df.prompt)\n",
    "print(\"Num goals: \", len(all_goals), \" rating df: \", len(rating_df))\n",
    "# keep only the first rating for people who saw a duplicate plan (due to accidental repeated planner)\n",
    "for subj_id in all_subjs:\n",
    "    subj_df = rating_df[rating_df.PROLIFIC_PID == subj_id]\n",
    "    rated_plans = set()\n",
    "    for idx, plan in zip(subj_df.index, subj_df.plan): \n",
    "        if plan in rated_plans: rating_df = rating_df.drop(idx)\n",
    "        else: rated_plans.add(plan)\n",
    "rating_df.columns\n",
    "\n",
    "# get summary scores for each explanation \n",
    "grouped_data = {}\n",
    "num_generations = {source: 0 for source in sources}\n",
    "stimuli_per_cond = {constraint: [] for constraint in constraints}\n",
    "data_per_goal = {source: {} for source in sources}\n",
    "\n",
    "for source in sources: \n",
    "    source_rating_data = {constraint: [] for constraint in constraints}\n",
    "    df_subset = rating_df[rating_df.subj_id == source]\n",
    "    goal_rating_data = {}\n",
    "    for constraint in constraints:\n",
    "        constraint_df = df_subset[df_subset.goal_type == constraint]\n",
    "        \n",
    "        if len(stimuli_per_cond[constraint]) == 0: stimuli_per_cond[constraint] = sorted(set(constraint_df.prompt))\n",
    "            \n",
    "        generations = set(constraint_df[\"plan\"])\n",
    "        num_generations[source] += len(generations)\n",
    "        for generation in generations: \n",
    "            generation_df = constraint_df[constraint_df.plan == generation]\n",
    "            prompt = list(generation_df.prompt)[0] # same prompt for all generations, so just take the first\n",
    "            ratings = [json.loads(rating_str)['goodness'] + 1 for rating_str in generation_df.response]\n",
    "            avg_goodness = np.mean(ratings)\n",
    "            median_goodness = np.median(ratings)\n",
    "            \n",
    "            obj = {'generation': generation, 'stimuli': prompt, 'mean': avg_goodness, 'median': median_goodness, 'ratings': ratings,\n",
    "                  \"constraint\":constraint}\n",
    "            \n",
    "            source_rating_data[constraint].append(obj)\n",
    "            if prompt not in data_per_goal[source]: data_per_goal[source][prompt] = [obj]\n",
    "            else: data_per_goal[source][prompt].append(obj)\n",
    "    grouped_data[source] = source_rating_data"
   ]
  },
  {
   "cell_type": "code",
   "execution_count": 6,
   "metadata": {},
   "outputs": [
    {
     "data": {
      "text/plain": [
       "Index(['index', 'run_id', 'condition', 'view_history', 'rt', 'trial_type',\n",
       "       'trial_index', 'time_elapsed', 'internal_node_id', 'PROLIFIC_PID',\n",
       "       'STUDY_ID', 'SESSION_ID', 'subject_id', 'study_id', 'session_id',\n",
       "       'response', 'question_order', 'prompt', 'task', 'subj_id', 'plan',\n",
       "       'goal_type', 'stimulus', 'recorded_at', 'ip', 'user_agent', 'device',\n",
       "       'browser', 'browser_version', 'platform', 'platform_version',\n",
       "       'source_code_version'],\n",
       "      dtype='object')"
      ]
     },
     "execution_count": 6,
     "metadata": {},
     "output_type": "execute_result"
    }
   ],
   "source": [
    "df.columns"
   ]
  },
  {
   "cell_type": "code",
   "execution_count": 5,
   "metadata": {},
   "outputs": [
    {
     "name": "stderr",
     "output_type": "stream",
     "text": [
      "<ipython-input-5-4e81426c6996>:6: FutureWarning: In a future version of pandas all arguments of DataFrame.dropna will be keyword-only\n",
      "  df = df.dropna(0, subset=[\"PROLIFIC_PID\", \"prompt\"])\n"
     ]
    },
    {
     "name": "stdout",
     "output_type": "stream",
     "text": [
      "Num subjs:  182 , Num rows:  12083\n",
      "Num scenarios:  84  rating df:  10920\n"
     ]
    }
   ],
   "source": [
    "# explanation data \n",
    "data_pth = \"/Users/kcollins/language_and_structure_of_thoughts/explanations/humans_vs_gpt3/analysis/group-a-mixed-group-b-rate-overall-goodness-of-explanations-final.csv\"\n",
    "\n",
    "df = pd.read_csv(data_pth)\n",
    "# remove any runs w/o PIDs (incomplete)\n",
    "df = df.dropna(0, subset=[\"PROLIFIC_PID\", \"prompt\"])\n",
    "# min_df = min_df.dropna(0, subset=[\"PROLIFIC_PID\", \"prompt\"])\n",
    "\n",
    "# filter out problem saves\n",
    "df = df[(df.PROLIFIC_PID != '2022-01-14 20:12:05') &\n",
    "        (df.PROLIFIC_PID != '2022-01-14 20:12:04') &\n",
    "        (df.PROLIFIC_PID != '2022-01-14 20:12:45') &\n",
    "        (df.PROLIFIC_PID != '2022-01-14 20:12:13') &\n",
    "       (df.PROLIFIC_PID != '2022-01-14 19:10:26')&\n",
    "        (df.PROLIFIC_PID != ' but the cat was trained to yowl in a different language')&\n",
    "        (df.PROLIFIC_PID != '2022-01-14 21:24:19')&\n",
    "        (df.PROLIFIC_PID != '2022-01-14 21:24:42')&\n",
    "        (df.PROLIFIC_PID != '2022-01-14 21:26:43')&\n",
    "        (df.PROLIFIC_PID != '2022-01-14 22:24:50')&\n",
    "       (df.PROLIFIC_PID != '\"')].reset_index()\n",
    "\n",
    "df = df.replace(\"single-constraint\", \"constrained_single\")\n",
    "df = df.replace(\"all-constraints\", \"constrained_many\")\n",
    "\n",
    "# extract subj ids\n",
    "all_subjs_exp = set(df.PROLIFIC_PID)\n",
    "\n",
    "print(\"Num subjs: \", len(all_subjs_exp), \", Num rows: \", len(df))\n",
    "df.head(3)\n",
    "\n",
    "# filter out to only include the ratings\n",
    "# e.g., any response that was of type \"rate_goodness\" \n",
    "rating_df_exp = df[(df.task == \"rate_goodness\")].reset_index()\n",
    "# gather all scenarios\n",
    "all_scenarios = set(rating_df_exp.prompt)\n",
    "print(\"Num scenarios: \", len(all_scenarios), \" rating df: \", len(rating_df_exp))\n",
    "# keep only the first rating for people who saw a duplicate plan (due to accidental repeated planner)\n",
    "for subj_id in all_subjs:\n",
    "    subj_df = rating_df_exp[rating_df_exp.PROLIFIC_PID == subj_id]\n",
    "    rated_exps = set()\n",
    "    for idx, plan in zip(subj_df.index, subj_df.plan): \n",
    "        if plan in rated_exps: rating_df_exp = rating_df_exp.drop(idx)\n",
    "        else: rated_exps.add(plan)\n",
    "rating_df_exp.columns\n",
    "\n",
    "# get summary scores for each explanation \n",
    "grouped_data_exp = {}\n",
    "num_generations_exp = {source: 0 for source in sources}\n",
    "stimuli_per_cond = {constraint: [] for constraint in constraints}\n",
    "data_per_goal_exp = {source: {} for source in sources}\n",
    "\n",
    "for source in sources: \n",
    "    source_rating_data = {constraint: [] for constraint in constraints}\n",
    "    df_subset = rating_df_exp[rating_df_exp.subj_id == source]\n",
    "    goal_rating_data = {}\n",
    "    for constraint in constraints:\n",
    "        constraint_df = df_subset[df_subset.goal_type == constraint]\n",
    "        \n",
    "        if len(stimuli_per_cond[constraint]) == 0: stimuli_per_cond[constraint] = sorted(set(constraint_df.prompt))\n",
    "            \n",
    "        generations = set(constraint_df[\"plan\"])\n",
    "        num_generations_exp[source] += len(generations)\n",
    "        for generation in generations: \n",
    "            generation_df = constraint_df[constraint_df.plan == generation]\n",
    "            prompt = list(generation_df.prompt)[0] # same prompt for all generations, so just take the first\n",
    "            ratings = [json.loads(rating_str)['goodness'] + 1 for rating_str in generation_df.response]\n",
    "            avg_goodness = np.mean(ratings)\n",
    "            median_goodness = np.median(ratings)\n",
    "            \n",
    "            obj = {'generation': generation, 'stimuli': prompt, 'mean': avg_goodness, 'median': median_goodness, 'ratings': ratings,\n",
    "                  \"constraint\":constraint}\n",
    "            \n",
    "            source_rating_data[constraint].append(obj)\n",
    "            if prompt not in data_per_goal_exp[source]: data_per_goal_exp[source][prompt] = [obj]\n",
    "            else: data_per_goal_exp[source][prompt].append(obj)\n",
    "    grouped_data_exp[source] = source_rating_data"
   ]
  },
  {
   "cell_type": "code",
   "execution_count": 6,
   "metadata": {},
   "outputs": [],
   "source": [
    "constraint_text_map =  {\"unconstrained\": \"Initial\", \n",
    "                       \"constrained_single\": \"Most Common\\nConstraint\", \n",
    "                       \"constrained_many\": \"All Constraints\"}\n",
    "source_text_map = {\"gpt-3\": \"LLM\", \n",
    "                  \"human\": \"Human\"}\n",
    "\n",
    "source_palette = {\"LLM\": \"gray\", \"Human\": \"#3C739F\"}\n",
    "\n",
    "ax_size = 18\n",
    "title_size=20\n",
    "tick_size = 14\n",
    "tick_color = \"gray\"\n",
    "legend_text_size = 14"
   ]
  },
  {
   "cell_type": "code",
   "execution_count": 7,
   "metadata": {},
   "outputs": [
    {
     "name": "stderr",
     "output_type": "stream",
     "text": [
      "<ipython-input-7-dc60a977e643>:53: UserWarning: FixedFormatter should only be used together with FixedLocator\n",
      "  ax.set_yticklabels([int(tick) for tick in ax.get_yticks()[:-1]], size = tick_size, color=tick_color)\n",
      "/Users/kcollins/opt/anaconda3/lib/python3.8/site-packages/statannotations/Annotator.py:803: UserWarning: Annotator was reconfigured without applying the test (again) which will probably lead to unexpected results\n",
      "  warnings.warn(\"Annotator was reconfigured without applying the \"\n"
     ]
    },
    {
     "name": "stdout",
     "output_type": "stream",
     "text": [
      "p-value annotation legend:\n",
      "      ns: p <= 1.00e+00\n",
      "       *: 1.00e-02 < p <= 5.00e-02\n",
      "      **: 1.00e-03 < p <= 1.00e-02\n",
      "     ***: 1.00e-04 < p <= 1.00e-03\n",
      "    ****: p <= 1.00e-04\n",
      "\n",
      "constrained_single_Human vs. constrained_single_LLM: Custom statistical test, P_val:2.200e-16\n",
      "unconstrained_Human vs. unconstrained_LLM: Custom statistical test, P_val:2.200e-16\n",
      "constrained_many_Human vs. constrained_many_LLM: Custom statistical test, P_val:2.200e-16\n",
      "p-value annotation legend:\n",
      "      ns: p <= 1.00e+00\n",
      "       *: 1.00e-02 < p <= 5.00e-02\n",
      "      **: 1.00e-03 < p <= 1.00e-02\n",
      "     ***: 1.00e-04 < p <= 1.00e-03\n",
      "    ****: p <= 1.00e-04\n",
      "\n",
      "unconstrained vs. constrained_single: Custom statistical test, P_val:2.200e-16\n",
      "constrained_single vs. constrained_many: Custom statistical test, P_val:7.449e-04\n"
     ]
    },
    {
     "name": "stderr",
     "output_type": "stream",
     "text": [
      "<ipython-input-7-dc60a977e643>:53: UserWarning: FixedFormatter should only be used together with FixedLocator\n",
      "  ax.set_yticklabels([int(tick) for tick in ax.get_yticks()[:-1]], size = tick_size, color=tick_color)\n",
      "/Users/kcollins/opt/anaconda3/lib/python3.8/site-packages/statannotations/Annotator.py:803: UserWarning: Annotator was reconfigured without applying the test (again) which will probably lead to unexpected results\n",
      "  warnings.warn(\"Annotator was reconfigured without applying the \"\n"
     ]
    },
    {
     "name": "stdout",
     "output_type": "stream",
     "text": [
      "p-value annotation legend:\n",
      "      ns: p <= 1.00e+00\n",
      "       *: 1.00e-02 < p <= 5.00e-02\n",
      "      **: 1.00e-03 < p <= 1.00e-02\n",
      "     ***: 1.00e-04 < p <= 1.00e-03\n",
      "    ****: p <= 1.00e-04\n",
      "\n",
      "constrained_single_Human vs. constrained_single_LLM: Custom statistical test, P_val:2.200e-16\n",
      "unconstrained_Human vs. unconstrained_LLM: Custom statistical test, P_val:2.200e-16\n",
      "constrained_many_Human vs. constrained_many_LLM: Custom statistical test, P_val:2.200e-16\n",
      "p-value annotation legend:\n",
      "      ns: p <= 1.00e+00\n",
      "       *: 1.00e-02 < p <= 5.00e-02\n",
      "      **: 1.00e-03 < p <= 1.00e-02\n",
      "     ***: 1.00e-04 < p <= 1.00e-03\n",
      "    ****: p <= 1.00e-04\n",
      "\n",
      "unconstrained vs. constrained_single: Custom statistical test, P_val:1.902e-06\n",
      "constrained_single vs. constrained_many: Custom statistical test, P_val:7.889e-09\n"
     ]
    },
    {
     "data": {
      "image/png": "[encoded data removed]",
      "text/plain": [
       "<Figure size 1152x360 with 2 Axes>"
      ]
     },
     "metadata": {
      "needs_background": "dark"
     },
     "output_type": "display_data"
    }
   ],
   "source": [
    "# stat annotation help from: https://github.com/trevismd/statannotations\n",
    "\n",
    "from statannotations.Annotator import Annotator\n",
    "import statsmodels\n",
    "\n",
    "\n",
    "fig, axes = plt.subplots(1, 2, figsize=(16,5))\n",
    "\n",
    "sns.set_style(style=\"dark\")\n",
    "\n",
    "\n",
    "x = 'Number of Constraints'\n",
    "y = \"Rating\"\n",
    "hue = 'Subject ID'\n",
    "\n",
    "\n",
    "pairs_q3 = [('unconstrained', 'constrained_single'),\n",
    "                ('constrained_single', 'constrained_many')]\n",
    "\n",
    "pairs_q1 = [(('unconstrained', 'Human'), ('unconstrained', 'LLM')),\n",
    "           (('constrained_single', 'Human'), ('constrained_single', 'LLM')),\n",
    "           (('constrained_many', 'Human'), ('constrained_many', 'LLM'))]\n",
    "\n",
    "# these are pulled from our stat tests\n",
    "# see associated file \n",
    "p_values = {\"Planning Domain\": {\"q1\": [2.2e-16,2.2e-16,2.2e-16], \"q3\": [2.2e-16,0.0007449]},\n",
    "            \"Explanations Domain\": {\"q1\": [2.2e-16,2.2e-16,2.2e-16], \"q3\": [1.902e-06, 7.889e-09]}}\n",
    "\n",
    "domain_titles = {\"Planning Domain\": \"Domain 1: Planning\", \n",
    "                \"Explanations Domain\": \"Domain 2: Explanations\"}\n",
    "\n",
    "for idx, (data, domain_name) in enumerate(zip([grouped_data, grouped_data_exp], [\"Planning Domain\", \"Explanations Domain\"])):\n",
    "\n",
    "    ax = axes[idx]\n",
    "    ratings = []\n",
    "\n",
    "    for constraint in constraints:\n",
    "        for source in data:\n",
    "            for generation_data in data[source][constraint]:\n",
    "                row = [constraint, source_text_map[source], generation_data[\"mean\"]]\n",
    "                ratings.append(\n",
    "\n",
    "                    row)\n",
    "\n",
    "    plot_rating_df = pd.DataFrame(ratings, columns = ['Number of Constraints', 'Subject ID', 'Rating'])\n",
    "    \n",
    "    ax = sns.boxplot(x=x, y=y, hue=hue, \n",
    "                     data=plot_rating_df, palette=source_palette, ax=ax)\n",
    "    ax.legend([],[], frameon=False)\n",
    "    ax.set_ylabel('Human Evaluation Score',fontsize=ax_size)\n",
    "    ax.set_title(domain_titles[domain_name], fontsize=title_size,fontweight=\"bold\")\n",
    "    ax.set_xlabel(\"Constraint Condition\", fontsize=ax_size)\n",
    "    ax.set_yticklabels([int(tick) for tick in ax.get_yticks()[:-1]], size = tick_size, color=tick_color)\n",
    "    ax.set_xticklabels(list(constraint_text_map.values()), size = tick_size, color=tick_color)\n",
    "    \n",
    "\n",
    "    plotting_params = {'x':x, 'y':y, \"hue\": hue,\n",
    "                       'data': plot_rating_df, \n",
    "                       'text_format':'star', 'verbose':2}\n",
    "    # add annotations\n",
    "    annotator = Annotator(ax, pairs_q1, **plotting_params)\n",
    "    annotator.set_pvalues(p_values[domain_name][\"q1\"])\n",
    "    annotator.configure(color=\"black\")\n",
    "    annotator.annotate()\n",
    "    plotting_params = {'x':x, 'y':y,\n",
    "                       'data': plot_rating_df, \n",
    "                       'text_format':'star', 'verbose':2}\n",
    "    \n",
    "    annotator = Annotator(ax, pairs_q3, **plotting_params)\n",
    "    annotator.configure(color=\"#B0270A\")\n",
    "    annotator.set_pvalues(p_values[domain_name][\"q3\"])\n",
    "    annotator.annotate()\n",
    "plt.tight_layout()\n",
    "plt.savefig(f\"{save_dir}human_v_llm.pdf\",dpi=400)"
   ]
  },
  {
   "cell_type": "code",
   "execution_count": 8,
   "metadata": {},
   "outputs": [
    {
     "name": "stdout",
     "output_type": "stream",
     "text": [
      "   Unnamed: 0  id  succeed constraints method gpt_prompt gpt_res\n",
      "0           0   3     True         one  codex        NaN     NaN\n",
      "1           1   4     True         one  codex        NaN     NaN\n",
      "2           2   5     True         one  codex        NaN     NaN\n"
     ]
    }
   ],
   "source": [
    "# parser-and-planner vs. LLM results\n",
    "\n",
    "def parse_success(success_str):\n",
    "    return 1 if success_str == True else 0\n",
    "\n",
    "df = pd.read_csv(\"./codex/final-output.csv\")\n",
    "\n",
    "print(df.head(3))\n",
    "\n",
    "methods = [\"codex\", \"gpt\"]\n",
    "constraints = [\"one\", \"two\", \"all\"]\n",
    "\n",
    "data = {}\n",
    "\n",
    "for method in methods:\n",
    "    if method == \"codex\": df_subset = df[df.method == \"codex\"]\n",
    "    else: df_subset = df[df.method == \"gpt\"]\n",
    "    \n",
    "    success_data = {}\n",
    "    \n",
    "    for constraint in constraints:\n",
    "        constraint_df = df_subset[df_subset.constraints == constraint]\n",
    "        successes = [parse_success(success_str) for success_str in constraint_df.succeed]\n",
    "        \n",
    "        success_data[constraint] = successes\n",
    "        \n",
    "    data[method] = success_data"
   ]
  },
  {
   "cell_type": "code",
   "execution_count": 10,
   "metadata": {},
   "outputs": [
    {
     "name": "stderr",
     "output_type": "stream",
     "text": [
      "<ipython-input-10-13152ac03c72>:35: UserWarning: FixedFormatter should only be used together with FixedLocator\n",
      "  ax.set_yticklabels([round(tick,1) for tick in ax.get_yticks()[:-1]], size = tick_size, color=tick_color)\n",
      "/Users/kcollins/opt/anaconda3/lib/python3.8/site-packages/statannotations/Annotator.py:803: UserWarning: Annotator was reconfigured without applying the test (again) which will probably lead to unexpected results\n",
      "  warnings.warn(\"Annotator was reconfigured without applying the \"\n"
     ]
    },
    {
     "name": "stdout",
     "output_type": "stream",
     "text": [
      "p-value annotation legend:\n",
      "      ns: p <= 1.00e+00\n",
      "       *: 1.00e-02 < p <= 5.00e-02\n",
      "      **: 1.00e-03 < p <= 1.00e-02\n",
      "     ***: 1.00e-04 < p <= 1.00e-03\n",
      "    ****: p <= 1.00e-04\n",
      "\n",
      "two_P+S vs. two_LLM: Custom statistical test, P_val:2.200e-16\n",
      "one_P+S vs. one_LLM: Custom statistical test, P_val:2.200e-16\n",
      "all_P+S vs. all_LLM: Custom statistical test, P_val:2.200e-16\n"
     ]
    },
    {
     "data": {
      "image/png": "[encoded data removed]",
      "text/plain": [
       "<Figure size 504x432 with 1 Axes>"
      ]
     },
     "metadata": {},
     "output_type": "display_data"
    }
   ],
   "source": [
    "color_palette = [\"purple\", \"gray\"]#\"red\"]\n",
    "\n",
    "constraint_text_map =  {\"one\": \"Initial\", \n",
    "                       \"two\": \"Single Atypical\\nConstraint\", \n",
    "                       \"all\": \"Many Atypical\\nConstraints\"}\n",
    "source_text_map = {\"gpt\": \"LLM\", \n",
    "                  \"codex\": \"P+S\"}\n",
    "\n",
    "fig, ax = plt.subplots(figsize=(7,6))\n",
    "sns.set_style(style=\"white\")\n",
    "\n",
    "x = 'Number of Constraints'\n",
    "y = 'Success Score'\n",
    "hue = 'Subject ID'\n",
    "\n",
    "pairs_q1 = [(('one', 'P+S'), ('one', 'LLM')),\n",
    "           (('two', 'P+S'), ('two', 'LLM')),\n",
    "           (('all', 'P+S'), ('all', 'LLM'))]\n",
    "\n",
    "# p-values from associated R analysis \n",
    "p_values = [2.2e-16,2.2e-16,2.2e-16]\n",
    "\n",
    "successes = []\n",
    "for method in data:\n",
    "    for constraint in constraints:\n",
    "        for score in data[method][constraint]:\n",
    "            row = [constraint, source_text_map[method], score]\n",
    "            successes.append(row)\n",
    "    \n",
    "success_df = pd.DataFrame(successes, columns = ['Number of Constraints', 'Subject ID', 'Success Score'])\n",
    "\n",
    "ax = sns.barplot(x=x, y=y, hue=hue, data=success_df, palette=color_palette,ax=ax)\n",
    "ax.set_ylabel('Automatic Evaluation Score',fontsize=ax_size)\n",
    "\n",
    "ax.set_xlabel(\"Constraint Condition\", fontsize=ax_size)\n",
    "ax.set_yticklabels([round(tick,1) for tick in ax.get_yticks()[:-1]], size = tick_size, color=tick_color)\n",
    "ax.set_xticklabels(list(constraint_text_map.values()), size = tick_size, color=tick_color)\n",
    "\n",
    "ax.legend([],[], frameon=False)\n",
    "\n",
    "plotting_params = {'x':x, 'y':y, \"hue\": hue,\n",
    "                   'data': success_df, \n",
    "                   'text_format':'star', 'verbose':2}\n",
    "# add annotations\n",
    "annotator = Annotator(ax, pairs_q1, **plotting_params)\n",
    "annotator.set_pvalues(p_values)\n",
    "annotator.configure(color=\"gray\")\n",
    "annotator.annotate()\n",
    "plotting_params = {'x':x, 'y':y,\n",
    "                   'data': plot_rating_df, \n",
    "                   'text_format':'star', 'verbose':2}\n",
    "\n",
    "plt.tight_layout()\n",
    "plt.savefig(f\"{save_dir}parser_planner.png\",dpi=400)\n",
    "\n",
    "                                           "
   ]
  },
  {
   "cell_type": "code",
   "execution_count": null,
   "metadata": {},
   "outputs": [],
   "source": []
  }
 ],
 "metadata": {
  "interpreter": {
   "hash": "6bfba3d9cec53d1fa1d59f855399e26dded27ccf19705ae5a5112c9714ee83ae"
  },
  "kernelspec": {
   "display_name": "Python 3",
   "language": "python",
   "name": "python3"
  },
  "language_info": {
   "codemirror_mode": {
    "name": "ipython",
    "version": 3
   },
   "file_extension": ".py",
   "mimetype": "text/x-python",
   "name": "python",
   "nbconvert_exporter": "python",
   "pygments_lexer": "ipython3",
   "version": "3.8.8"
  }
 },
 "nbformat": 4,
 "nbformat_minor": 2
}
